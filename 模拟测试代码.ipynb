{
 "cells": [
  {
   "cell_type": "markdown",
   "id": "fccd5057",
   "metadata": {},
   "source": [
    "# 基于隐语Secretflow框架的水平联邦学习落地实践——学生在校表现预测的多方联合训练\n",
    "## 本地模拟测试代码"
   ]
  },
  {
   "cell_type": "markdown",
   "id": "336eb26e",
   "metadata": {},
   "source": [
    "    该文档包含一个本地模拟流程，从一个.csv文件开始，模拟了双方联合训练的全流程。"
   ]
  },
  {
   "cell_type": "markdown",
   "id": "a8f6505b",
   "metadata": {},
   "source": [
    "### 数据拆分及预处理"
   ]
  },
  {
   "cell_type": "code",
   "execution_count": 1,
   "id": "283b1b9c",
   "metadata": {},
   "outputs": [],
   "source": [
    "import tempfile\n",
    "import pandas as pd\n",
    "import secretflow as sf\n",
    "\n",
    "alldata_df = pd.read_csv(\"./student-mat.csv\")\n",
    "h_alice_df = alldata_df.loc[:100]\n",
    "h_bob_df = alldata_df.loc[100:200]\n",
    "h_test_df=alldata_df.loc[200:]\n",
    "\n",
    "_, h_alice_path = tempfile.mkstemp()\n",
    "_, h_bob_path = tempfile.mkstemp()\n",
    "_,h_test_path=tempfile.mkstemp()\n",
    "h_alice_df.to_csv(\"./A.csv\", index=False)\n",
    "h_bob_df.to_csv(\"./B.csv\", index=False)\n",
    "h_test_df.to_csv(\"./test.csv\", index=False)"
   ]
  },
  {
   "cell_type": "markdown",
   "id": "82797cd0",
   "metadata": {},
   "source": [
    "### 基于pytorch后端的FLModel联邦学习模拟"
   ]
  },
  {
   "cell_type": "markdown",
   "id": "71db9b4e",
   "metadata": {},
   "source": [
    "    首先经过隐语框架将两份数据分别加载到Frame中（这个过程中双方的数据没有出域）。\n",
    "    我们要预测的目标特征为G3，即学生的最终测试成绩。我们将数据分为G3与其他特征，用于在后续模型中进行训练。"
   ]
  },
  {
   "cell_type": "code",
   "execution_count": 2,
   "id": "736606ef",
   "metadata": {},
   "outputs": [
    {
     "name": "stdout",
     "output_type": "stream",
     "text": [
      "The version of SecretFlow: 1.9.0b1\n"
     ]
    },
    {
     "name": "stderr",
     "output_type": "stream",
     "text": [
      "/home/maoyu/anaconda3/envs/pytorch/lib/python3.10/subprocess.py:1796: RuntimeWarning: os.fork() was called. os.fork() is incompatible with multithreaded code, and JAX is multithreaded, so this will likely lead to a deadlock.\n",
      "  self.pid = _posixsubprocess.fork_exec(\n",
      "2024-09-10 00:46:00,674\tINFO worker.py:1724 -- Started a local Ray instance.\n",
      "INFO:root:Create proxy actor <class 'secretflow.device.proxy.ActorPartitionAgent'> with party alice.\n",
      "INFO:root:Create proxy actor <class 'secretflow.device.proxy.ActorPartitionAgent'> with party bob.\n"
     ]
    }
   ],
   "source": [
    "# Check the version of your SecretFlow\n",
    "print('The version of SecretFlow: {}'.format(sf.__version__))\n",
    "\n",
    "# In case you have a running secretflow runtime already.\n",
    "sf.shutdown()\n",
    "sf.init(['alice', 'bob', 'charlie'], address=\"local\", log_to_driver=True)\n",
    "alice, bob, charlie = sf.PYU('alice'), sf.PYU('bob'), sf.PYU('charlie')\n",
    "\n",
    "from secretflow.data.horizontal import read_csv\n",
    "from secretflow.security.aggregation.plain_aggregator import PlainAggregator\n",
    "from secretflow.security.compare.plain_comparator import PlainComparator\n",
    "from secretflow.data.split import train_test_split\n",
    "\n",
    "path_dict = {alice: \"./A.csv\", bob: \"./B.csv\"}\n",
    "\n",
    "aggregator = PlainAggregator(charlie)\n",
    "comparator = PlainComparator(charlie)\n",
    "\n",
    "hdf = read_csv(filepath=path_dict, aggregator=aggregator, comparator=comparator)\n",
    "train_label = hdf[\"G3\"]\n",
    "train_data = hdf.drop(columns=\"G3\")\n",
    "\n",
    "testframe = pd.read_csv(\"./test.csv\")\n",
    "test_label = testframe[\"G3\"]\n",
    "test_data = testframe.drop(columns=\"G3\")"
   ]
  },
  {
   "cell_type": "markdown",
   "id": "60899bcc",
   "metadata": {},
   "source": [
    "    接下来开始训练"
   ]
  },
  {
   "cell_type": "code",
   "execution_count": 3,
   "id": "4fbe0a7b",
   "metadata": {},
   "outputs": [],
   "source": [
    "from secretflow.ml.nn.core.torch import (\n",
    "    metric_wrapper,\n",
    "    optim_wrapper,\n",
    "    BaseModule,\n",
    "    TorchModel,\n",
    ")\n",
    "from secretflow.ml.nn import FLModel\n",
    "from torchmetrics import Accuracy, Precision\n",
    "from secretflow.security.aggregation import SecureAggregator\n",
    "from torch import nn, optim\n",
    "from torch.nn import functional as F\n",
    "\n",
    "class ConvNet(BaseModule):\n",
    "    \"\"\"Small ConvNet for MNIST.\"\"\"\n",
    "\n",
    "    def __init__(self):\n",
    "        super(ConvNet, self).__init__()\n",
    "        self.conv1 = nn.Conv2d(1, 3, kernel_size=3)\n",
    "        self.fc_in_dim = 192\n",
    "        self.fc = nn.Linear(self.fc_in_dim, 10)\n",
    "\n",
    "    def forward(self, x):\n",
    "        x = F.relu(F.max_pool2d(self.conv1(x), 3))\n",
    "        x = x.view(-1, self.fc_in_dim)\n",
    "        x = self.fc(x)\n",
    "        return F.softmax(x, dim=1)\n",
    "\n",
    "class SimpleNN(BaseModule):\n",
    "    def __init__(self):\n",
    "        super(SimpleNN, self).__init__()\n",
    "        self.fc1 = nn.Linear(31, 64)  # 输入特征数31，隐藏层神经元数64（可以调整）\n",
    "        self.fc2 = nn.Linear(64, 32)  # 隐藏层神经元数64，下一层神经元数32（可以调整）\n",
    "        self.fc3 = nn.Linear(32, 10)  # 最后一层，假设有10个类别\n",
    "\n",
    "    def forward(self, x):\n",
    "        x = F.relu(self.fc1(x))  # 第一个全连接层及激活函数\n",
    "        x = F.relu(self.fc2(x))  # 第二个全连接层及激活函数\n",
    "        x = self.fc3(x)          # 最后一层输出 logits\n",
    "        return F.softmax(x, dim=1)  # 输出概率分布\n",
    "\n",
    "loss_fn = nn.CrossEntropyLoss\n",
    "optim_fn = optim_wrapper(optim.Adam, lr=1e-2)\n",
    "model_def = TorchModel(\n",
    "    model_fn=SimpleNN,\n",
    "    loss_fn=loss_fn,\n",
    "    optim_fn=optim_fn,\n",
    "    metrics=[\n",
    "        metric_wrapper(Accuracy, task=\"multiclass\", num_classes=10, average='micro'),\n",
    "        metric_wrapper(Precision, task=\"multiclass\", num_classes=10, average='micro'),\n",
    "    ],\n",
    ")\n"
   ]
  },
  {
   "cell_type": "code",
   "execution_count": 4,
   "id": "2325340a",
   "metadata": {},
   "outputs": [
    {
     "name": "stderr",
     "output_type": "stream",
     "text": [
      "INFO:root:Create proxy actor <class 'secretflow.device.proxy.Actor_Masker'> with party alice.\n",
      "INFO:root:Create proxy actor <class 'secretflow.device.proxy.Actor_Masker'> with party bob.\n",
      "INFO:root:Create proxy actor <class 'abc.ActorPYUFedAvgW'> with party alice.\n",
      "INFO:root:Create proxy actor <class 'abc.ActorPYUFedAvgW'> with party bob.\n"
     ]
    }
   ],
   "source": [
    "device_list = [alice, bob]\n",
    "server = charlie\n",
    "aggregator = SecureAggregator(server, [alice, bob])\n",
    "\n",
    "# spcify params\n",
    "fl_model = FLModel(\n",
    "    server=server,\n",
    "    device_list=device_list,\n",
    "    model=model_def,\n",
    "    aggregator=aggregator,\n",
    "    strategy='fed_avg_w',  # fl strategy\n",
    "    backend=\"torch\",  # backend support ['tensorflow', 'torch']\n",
    ")"
   ]
  },
  {
   "cell_type": "code",
   "execution_count": 5,
   "id": "2485eee5",
   "metadata": {
    "scrolled": true
   },
   "outputs": [
    {
     "name": "stderr",
     "output_type": "stream",
     "text": [
      "INFO:root:FL Train Params: {'x': HDataFrame(partitions={PYURuntime(alice): <secretflow.data.core.partition.Partition object at 0x7f161070b430>, PYURuntime(bob): <secretflow.data.core.partition.Partition object at 0x7f161070b610>}, aggregator=<secretflow.security.aggregation.plain_aggregator.PlainAggregator object at 0x7f156710f7f0>, comparator=PlainComparator(device=PYURuntime(charlie))), 'y': HDataFrame(partitions={PYURuntime(alice): <secretflow.data.core.partition.Partition object at 0x7f1566f11f00>, PYURuntime(bob): <secretflow.data.core.partition.Partition object at 0x7f161070b2b0>}, aggregator=<secretflow.security.aggregation.plain_aggregator.PlainAggregator object at 0x7f156710f7f0>, comparator=PlainComparator(device=PYURuntime(charlie))), 'batch_size': 16, 'batch_sampling_rate': None, 'epochs': 20, 'verbose': 1, 'callbacks': None, 'validation_data': (     otherschool  sex  age  address  fa1ize  Pstatus  1edu  0edu  1job  0job  \\\n",
      "0              0    0   16        0       1        0     4     3     1     9   \n",
      "1              0    0   16        0       1        0     2     3     9     9   \n",
      "2              0    0   17        0       1        0     1     1     9     9   \n",
      "3              0    0   17        1       1        0     2     2     9     9   \n",
      "4              0    0   16        1       1        0     2     2     2     2   \n",
      "..           ...  ...  ...      ...     ...      ...   ...   ...   ...   ...   \n",
      "190            1    1   20        0       0        1     2     2     2     2   \n",
      "191            1    1   17        0       0        0     3     1     2     2   \n",
      "192            1    1   21        1       1        0     1     1     9     9   \n",
      "193            1    1   18        1       0        0     3     2     2     9   \n",
      "194            1    1   19        0       0        0     1     1     9     3   \n",
      "\n",
      "     ...  romantic  famrel  freetime  goout  Dalc  Walc  1  absences  G1  G2  \n",
      "0    ...         0       4         3      5     1     5  2         2  16  16  \n",
      "1    ...         0       4         4      3     1     3  4         6   8  10  \n",
      "2    ...         0       4         4      4     1     3  1         4   9   9  \n",
      "3    ...         0       5         3      2     1     2  3        18   7   6  \n",
      "4    ...         0       5         3      5     1     1  5         6  10  10  \n",
      "..   ...       ...     ...       ...    ...   ...   ... ..       ...  ..  ..  \n",
      "190  ...         0       5         5      4     4     5  4        11   9   9  \n",
      "191  ...         0       2         4      5     3     4  2         3  14  16  \n",
      "192  ...         0       5         5      3     3     3  3         3  10   8  \n",
      "193  ...         0       4         4      1     3     4  5         0  11  12  \n",
      "194  ...         0       3         2      3     3     3  5         5   8   9  \n",
      "\n",
      "[195 rows x 32 columns], 0      16\n",
      "1      10\n",
      "2      10\n",
      "3       6\n",
      "4      11\n",
      "       ..\n",
      "190     9\n",
      "191    16\n",
      "192     7\n",
      "193    10\n",
      "194     9\n",
      "Name: G3, Length: 195, dtype: int64), 'shuffle': False, 'class_weight': None, 'sample_weight': None, 'validation_freq': 1, 'aggregate_freq': 1, 'label_decoder': None, 'max_batch_size': 20000, 'prefetch_buffer_size': None, 'sampler_method': 'batch', 'random_seed': 15829, 'dp_spent_step_freq': None, 'audit_log_dir': None, 'dataset_builder': None, 'wait_steps': 100, 'self': <secretflow.ml.nn.fl.fl_model.FLModel object at 0x7f16106d6bc0>}\n",
      "Train Processing: :   0%|                                                                         | 0/7 [00:00<?, ?it/s]"
     ]
    },
    {
     "name": "stdout",
     "output_type": "stream",
     "text": [
      "Epoch 1/20\n"
     ]
    },
    {
     "ename": "RayTaskError(RuntimeError)",
     "evalue": "\u001b[36mray::ActorPYUFedAvgW.train_step()\u001b[39m (pid=607105, ip=172.25.205.26, actor_id=1a6f3c4cad396403b6f03e2101000000, repr=<abc.ActorPYUFedAvgW object at 0x7f4b2ba95120>)\n  File \"/home/maoyu/anaconda3/envs/pytorch/lib/python3.10/site-packages/secretflow/device/proxy.py\", line 77, in wrapper\n    return method(*args, **kwargs)\n  File \"/home/maoyu/anaconda3/envs/pytorch/lib/python3.10/site-packages/secretflow/ml/nn/fl/backend/torch/strategy/fed_avg_w.py\", line 68, in train_step\n    loss = self.model.training_step((x, y), cur_steps + step, sample_weight=s_w)\n  File \"/home/maoyu/anaconda3/envs/pytorch/lib/python3.10/site-packages/secretflow/ml/nn/core/torch/module.py\", line 174, in training_step\n    _, loss = self.forward_step(batch, batch_idx, dataloader_idx)\n  File \"/home/maoyu/anaconda3/envs/pytorch/lib/python3.10/site-packages/secretflow/ml/nn/core/torch/module.py\", line 205, in forward_step\n    y_pred = self(x)\n  File \"/home/maoyu/anaconda3/envs/pytorch/lib/python3.10/site-packages/torch/nn/modules/module.py\", line 1518, in _wrapped_call_impl\n    return self._call_impl(*args, **kwargs)\n  File \"/home/maoyu/anaconda3/envs/pytorch/lib/python3.10/site-packages/torch/nn/modules/module.py\", line 1527, in _call_impl\n    return forward_call(*args, **kwargs)\n  File \"/tmp/ipykernel_605466/605327549.py\", line 37, in forward\n  File \"/home/maoyu/anaconda3/envs/pytorch/lib/python3.10/site-packages/torch/nn/modules/module.py\", line 1518, in _wrapped_call_impl\n    return self._call_impl(*args, **kwargs)\n  File \"/home/maoyu/anaconda3/envs/pytorch/lib/python3.10/site-packages/torch/nn/modules/module.py\", line 1527, in _call_impl\n    return forward_call(*args, **kwargs)\n  File \"/home/maoyu/anaconda3/envs/pytorch/lib/python3.10/site-packages/torch/nn/modules/linear.py\", line 114, in forward\n    return F.linear(input, self.weight, self.bias)\nRuntimeError: mat1 and mat2 shapes cannot be multiplied (16x32 and 31x64)",
     "output_type": "error",
     "traceback": [
      "\u001b[0;31m---------------------------------------------------------------------------\u001b[0m",
      "\u001b[0;31mRayTaskError(RuntimeError)\u001b[0m                Traceback (most recent call last)",
      "Cell \u001b[0;32mIn[5], line 1\u001b[0m\n\u001b[0;32m----> 1\u001b[0m history \u001b[38;5;241m=\u001b[39m \u001b[43mfl_model\u001b[49m\u001b[38;5;241;43m.\u001b[39;49m\u001b[43mfit\u001b[49m\u001b[43m(\u001b[49m\n\u001b[1;32m      2\u001b[0m \u001b[43m    \u001b[49m\u001b[43mtrain_data\u001b[49m\u001b[43m,\u001b[49m\n\u001b[1;32m      3\u001b[0m \u001b[43m    \u001b[49m\u001b[43mtrain_label\u001b[49m\u001b[43m,\u001b[49m\n\u001b[1;32m      4\u001b[0m \u001b[43m    \u001b[49m\u001b[43mvalidation_data\u001b[49m\u001b[38;5;241;43m=\u001b[39;49m\u001b[43m(\u001b[49m\u001b[43mtest_data\u001b[49m\u001b[43m,\u001b[49m\u001b[43m \u001b[49m\u001b[43mtest_label\u001b[49m\u001b[43m)\u001b[49m\u001b[43m,\u001b[49m\n\u001b[1;32m      5\u001b[0m \u001b[43m    \u001b[49m\u001b[43mepochs\u001b[49m\u001b[38;5;241;43m=\u001b[39;49m\u001b[38;5;241;43m20\u001b[39;49m\u001b[43m,\u001b[49m\n\u001b[1;32m      6\u001b[0m \u001b[43m    \u001b[49m\u001b[43mbatch_size\u001b[49m\u001b[38;5;241;43m=\u001b[39;49m\u001b[38;5;241;43m16\u001b[39;49m\u001b[43m,\u001b[49m\n\u001b[1;32m      7\u001b[0m \u001b[43m    \u001b[49m\u001b[43maggregate_freq\u001b[49m\u001b[38;5;241;43m=\u001b[39;49m\u001b[38;5;241;43m1\u001b[39;49m\u001b[43m,\u001b[49m\n\u001b[1;32m      8\u001b[0m \u001b[43m)\u001b[49m\n",
      "File \u001b[0;32m~/anaconda3/envs/pytorch/lib/python3.10/site-packages/secretflow/ml/nn/fl/fl_model.py:510\u001b[0m, in \u001b[0;36mFLModel.fit\u001b[0;34m(self, x, y, batch_size, batch_sampling_rate, epochs, verbose, callbacks, validation_data, shuffle, class_weight, sample_weight, validation_freq, aggregate_freq, label_decoder, max_batch_size, prefetch_buffer_size, sampler_method, random_seed, dp_spent_step_freq, audit_log_dir, dataset_builder, wait_steps)\u001b[0m\n\u001b[1;32m    508\u001b[0m     res\u001b[38;5;241m.\u001b[39mappend(client_params)\n\u001b[1;32m    509\u001b[0m \u001b[38;5;28;01mif\u001b[39;00m \u001b[38;5;28mself\u001b[39m\u001b[38;5;241m.\u001b[39m_aggregator \u001b[38;5;129;01mis\u001b[39;00m \u001b[38;5;129;01mnot\u001b[39;00m \u001b[38;5;28;01mNone\u001b[39;00m:\n\u001b[0;32m--> 510\u001b[0m     model_params \u001b[38;5;241m=\u001b[39m \u001b[38;5;28;43mself\u001b[39;49m\u001b[38;5;241;43m.\u001b[39;49m\u001b[43m_aggregator\u001b[49m\u001b[38;5;241;43m.\u001b[39;49m\u001b[43maverage\u001b[49m\u001b[43m(\u001b[49m\n\u001b[1;32m    511\u001b[0m \u001b[43m        \u001b[49m\u001b[43mclient_param_list\u001b[49m\u001b[43m,\u001b[49m\u001b[43m \u001b[49m\u001b[43maxis\u001b[49m\u001b[38;5;241;43m=\u001b[39;49m\u001b[38;5;241;43m0\u001b[39;49m\u001b[43m,\u001b[49m\u001b[43m \u001b[49m\u001b[43mweights\u001b[49m\u001b[38;5;241;43m=\u001b[39;49m\u001b[43msample_num_list\u001b[49m\n\u001b[1;32m    512\u001b[0m \u001b[43m    \u001b[49m\u001b[43m)\u001b[49m\n\u001b[1;32m    513\u001b[0m \u001b[38;5;28;01melse\u001b[39;00m:\n\u001b[1;32m    514\u001b[0m     \u001b[38;5;28;01mif\u001b[39;00m \u001b[38;5;28mself\u001b[39m\u001b[38;5;241m.\u001b[39mserver \u001b[38;5;129;01mis\u001b[39;00m \u001b[38;5;129;01mnot\u001b[39;00m \u001b[38;5;28;01mNone\u001b[39;00m:\n\u001b[1;32m    515\u001b[0m         \u001b[38;5;66;03m# server will do aggregation\u001b[39;00m\n",
      "File \u001b[0;32m~/anaconda3/envs/pytorch/lib/python3.10/site-packages/secretflow/security/aggregation/secure_aggregator.py:294\u001b[0m, in \u001b[0;36mSecureAggregator.average\u001b[0;34m(self, data, axis, weights)\u001b[0m\n\u001b[1;32m    292\u001b[0m masked_data \u001b[38;5;241m=\u001b[39m [d\u001b[38;5;241m.\u001b[39mto(\u001b[38;5;28mself\u001b[39m\u001b[38;5;241m.\u001b[39m_device) \u001b[38;5;28;01mfor\u001b[39;00m d \u001b[38;5;129;01min\u001b[39;00m masked_data]\n\u001b[1;32m    293\u001b[0m dtypes \u001b[38;5;241m=\u001b[39m [dtype\u001b[38;5;241m.\u001b[39mto(\u001b[38;5;28mself\u001b[39m\u001b[38;5;241m.\u001b[39m_device) \u001b[38;5;28;01mfor\u001b[39;00m dtype \u001b[38;5;129;01min\u001b[39;00m dtypes]\n\u001b[0;32m--> 294\u001b[0m \u001b[38;5;28;01mreturn\u001b[39;00m \u001b[38;5;28;43mself\u001b[39;49m\u001b[38;5;241;43m.\u001b[39;49m\u001b[43m_device\u001b[49m\u001b[43m(\u001b[49m\u001b[43m_average\u001b[49m\u001b[43m)\u001b[49m\u001b[43m(\u001b[49m\n\u001b[1;32m    295\u001b[0m \u001b[43m    \u001b[49m\u001b[38;5;241;43m*\u001b[39;49m\u001b[43mmasked_data\u001b[49m\u001b[43m,\u001b[49m\u001b[43m \u001b[49m\u001b[43mdtypes\u001b[49m\u001b[38;5;241;43m=\u001b[39;49m\u001b[43mdtypes\u001b[49m\u001b[43m,\u001b[49m\u001b[43m \u001b[49m\u001b[43mweights\u001b[49m\u001b[38;5;241;43m=\u001b[39;49m\u001b[43m_weights\u001b[49m\u001b[43m,\u001b[49m\u001b[43m \u001b[49m\u001b[43mfxp_bits\u001b[49m\u001b[38;5;241;43m=\u001b[39;49m\u001b[38;5;28;43mself\u001b[39;49m\u001b[38;5;241;43m.\u001b[39;49m\u001b[43m_fxp_bits\u001b[49m\n\u001b[1;32m    296\u001b[0m \u001b[43m\u001b[49m\u001b[43m)\u001b[49m\n",
      "File \u001b[0;32m~/anaconda3/envs/pytorch/lib/python3.10/site-packages/secretflow/device/device/pyu.py:102\u001b[0m, in \u001b[0;36mPYU.__call__.<locals>.wrapper\u001b[0;34m(*args, **kwargs)\u001b[0m\n\u001b[1;32m     96\u001b[0m args_, kwargs_ \u001b[38;5;241m=\u001b[39m jax\u001b[38;5;241m.\u001b[39mtree_util\u001b[38;5;241m.\u001b[39mtree_map(\n\u001b[1;32m     97\u001b[0m     \u001b[38;5;28;01mlambda\u001b[39;00m arg: try_get_data(arg, \u001b[38;5;28mself\u001b[39m), (args, kwargs)\n\u001b[1;32m     98\u001b[0m )\n\u001b[1;32m    100\u001b[0m _num_returns \u001b[38;5;241m=\u001b[39m check_num_returns(fn) \u001b[38;5;28;01mif\u001b[39;00m num_returns \u001b[38;5;129;01mis\u001b[39;00m \u001b[38;5;28;01mNone\u001b[39;00m \u001b[38;5;28;01melse\u001b[39;00m num_returns\n\u001b[1;32m    101\u001b[0m data \u001b[38;5;241m=\u001b[39m (\n\u001b[0;32m--> 102\u001b[0m     \u001b[43msfd\u001b[49m\u001b[38;5;241;43m.\u001b[39;49m\u001b[43mremote\u001b[49m\u001b[43m(\u001b[49m\u001b[38;5;28;43mself\u001b[39;49m\u001b[38;5;241;43m.\u001b[39;49m\u001b[43m_run\u001b[49m\u001b[43m)\u001b[49m\n\u001b[1;32m    103\u001b[0m \u001b[43m    \u001b[49m\u001b[38;5;241;43m.\u001b[39;49m\u001b[43mparty\u001b[49m\u001b[43m(\u001b[49m\u001b[38;5;28;43mself\u001b[39;49m\u001b[38;5;241;43m.\u001b[39;49m\u001b[43mparty\u001b[49m\u001b[43m)\u001b[49m\n\u001b[1;32m    104\u001b[0m \u001b[43m    \u001b[49m\u001b[38;5;241;43m.\u001b[39;49m\u001b[43moptions\u001b[49m\u001b[43m(\u001b[49m\u001b[43mnum_returns\u001b[49m\u001b[38;5;241;43m=\u001b[39;49m\u001b[43m_num_returns\u001b[49m\u001b[43m)\u001b[49m\n\u001b[1;32m    105\u001b[0m \u001b[43m    \u001b[49m\u001b[38;5;241;43m.\u001b[39;49m\u001b[43mremote\u001b[49m\u001b[43m(\u001b[49m\u001b[43mfn\u001b[49m\u001b[43m,\u001b[49m\u001b[43m \u001b[49m\u001b[38;5;241;43m*\u001b[39;49m\u001b[43margs_\u001b[49m\u001b[43m,\u001b[49m\u001b[43m \u001b[49m\u001b[38;5;241;43m*\u001b[39;49m\u001b[38;5;241;43m*\u001b[39;49m\u001b[43mkwargs_\u001b[49m\u001b[43m)\u001b[49m\n\u001b[1;32m    106\u001b[0m )\n\u001b[1;32m    107\u001b[0m logging\u001b[38;5;241m.\u001b[39mdebug(\n\u001b[1;32m    108\u001b[0m     (\n\u001b[1;32m    109\u001b[0m         \u001b[38;5;124mf\u001b[39m\u001b[38;5;124m'\u001b[39m\u001b[38;5;124mPYU remote function: \u001b[39m\u001b[38;5;132;01m{\u001b[39;00mfn\u001b[38;5;132;01m}\u001b[39;00m\u001b[38;5;124m, num_returns=\u001b[39m\u001b[38;5;132;01m{\u001b[39;00mnum_returns\u001b[38;5;132;01m}\u001b[39;00m\u001b[38;5;124m, \u001b[39m\u001b[38;5;124m'\u001b[39m\n\u001b[1;32m    110\u001b[0m         \u001b[38;5;124mf\u001b[39m\u001b[38;5;124m'\u001b[39m\u001b[38;5;124margs len: \u001b[39m\u001b[38;5;132;01m{\u001b[39;00m\u001b[38;5;28mlen\u001b[39m(args)\u001b[38;5;132;01m}\u001b[39;00m\u001b[38;5;124m, kwargs len: \u001b[39m\u001b[38;5;132;01m{\u001b[39;00m\u001b[38;5;28mlen\u001b[39m(kwargs)\u001b[38;5;132;01m}\u001b[39;00m\u001b[38;5;124m.\u001b[39m\u001b[38;5;124m'\u001b[39m\n\u001b[1;32m    111\u001b[0m     )\n\u001b[1;32m    112\u001b[0m )\n\u001b[1;32m    113\u001b[0m \u001b[38;5;28;01mif\u001b[39;00m _num_returns \u001b[38;5;241m==\u001b[39m \u001b[38;5;241m1\u001b[39m:\n",
      "File \u001b[0;32m~/anaconda3/envs/pytorch/lib/python3.10/site-packages/ray/remote_function.py:246\u001b[0m, in \u001b[0;36mRemoteFunction.options.<locals>.FuncWrapper.remote\u001b[0;34m(self, *args, **kwargs)\u001b[0m\n\u001b[1;32m    245\u001b[0m \u001b[38;5;28;01mdef\u001b[39;00m \u001b[38;5;21mremote\u001b[39m(\u001b[38;5;28mself\u001b[39m, \u001b[38;5;241m*\u001b[39margs, \u001b[38;5;241m*\u001b[39m\u001b[38;5;241m*\u001b[39mkwargs):\n\u001b[0;32m--> 246\u001b[0m     \u001b[38;5;28;01mreturn\u001b[39;00m \u001b[43mfunc_cls\u001b[49m\u001b[38;5;241;43m.\u001b[39;49m\u001b[43m_remote\u001b[49m\u001b[43m(\u001b[49m\u001b[43margs\u001b[49m\u001b[38;5;241;43m=\u001b[39;49m\u001b[43margs\u001b[49m\u001b[43m,\u001b[49m\u001b[43m \u001b[49m\u001b[43mkwargs\u001b[49m\u001b[38;5;241;43m=\u001b[39;49m\u001b[43mkwargs\u001b[49m\u001b[43m,\u001b[49m\u001b[43m \u001b[49m\u001b[38;5;241;43m*\u001b[39;49m\u001b[38;5;241;43m*\u001b[39;49m\u001b[43mupdated_options\u001b[49m\u001b[43m)\u001b[49m\n",
      "File \u001b[0;32m~/anaconda3/envs/pytorch/lib/python3.10/site-packages/secretflow/distributed/primitive.py:225\u001b[0m, in \u001b[0;36mRemoteFunctionWrapper._remote\u001b[0;34m(self, *args, **kwargs)\u001b[0m\n\u001b[1;32m    224\u001b[0m \u001b[38;5;28;01mdef\u001b[39;00m \u001b[38;5;21m_remote\u001b[39m(\u001b[38;5;28mself\u001b[39m, \u001b[38;5;241m*\u001b[39margs, \u001b[38;5;241m*\u001b[39m\u001b[38;5;241m*\u001b[39mkwargs):\n\u001b[0;32m--> 225\u001b[0m     args, kwargs \u001b[38;5;241m=\u001b[39m \u001b[43m_resolve_args\u001b[49m\u001b[43m(\u001b[49m\u001b[38;5;241;43m*\u001b[39;49m\u001b[43margs\u001b[49m\u001b[43m,\u001b[49m\u001b[43m \u001b[49m\u001b[38;5;241;43m*\u001b[39;49m\u001b[38;5;241;43m*\u001b[39;49m\u001b[43mkwargs\u001b[49m\u001b[43m)\u001b[49m\n\u001b[1;32m    226\u001b[0m     \u001b[38;5;28;01mreturn\u001b[39;00m \u001b[38;5;28msuper\u001b[39m()\u001b[38;5;241m.\u001b[39m_remote(\u001b[38;5;241m*\u001b[39margs, \u001b[38;5;241m*\u001b[39m\u001b[38;5;241m*\u001b[39mkwargs)\n",
      "File \u001b[0;32m~/anaconda3/envs/pytorch/lib/python3.10/site-packages/secretflow/distributed/primitive.py:215\u001b[0m, in \u001b[0;36m_resolve_args\u001b[0;34m(*args, **kwargs)\u001b[0m\n\u001b[1;32m    210\u001b[0m arg_flat, arg_tree \u001b[38;5;241m=\u001b[39m jax\u001b[38;5;241m.\u001b[39mtree_util\u001b[38;5;241m.\u001b[39mtree_flatten((args, kwargs))\n\u001b[1;32m    211\u001b[0m refs \u001b[38;5;241m=\u001b[39m {\n\u001b[1;32m    212\u001b[0m     pos: arg \u001b[38;5;28;01mfor\u001b[39;00m pos, arg \u001b[38;5;129;01min\u001b[39;00m \u001b[38;5;28menumerate\u001b[39m(arg_flat) \u001b[38;5;28;01mif\u001b[39;00m \u001b[38;5;28misinstance\u001b[39m(arg, ray\u001b[38;5;241m.\u001b[39mObjectRef)\n\u001b[1;32m    213\u001b[0m }\n\u001b[0;32m--> 215\u001b[0m actual_vals \u001b[38;5;241m=\u001b[39m \u001b[43mray\u001b[49m\u001b[38;5;241;43m.\u001b[39;49m\u001b[43mget\u001b[49m\u001b[43m(\u001b[49m\u001b[38;5;28;43mlist\u001b[39;49m\u001b[43m(\u001b[49m\u001b[43mrefs\u001b[49m\u001b[38;5;241;43m.\u001b[39;49m\u001b[43mvalues\u001b[49m\u001b[43m(\u001b[49m\u001b[43m)\u001b[49m\u001b[43m)\u001b[49m\u001b[43m)\u001b[49m\n\u001b[1;32m    216\u001b[0m \u001b[38;5;28;01mfor\u001b[39;00m pos, actual_val \u001b[38;5;129;01min\u001b[39;00m \u001b[38;5;28mzip\u001b[39m(refs\u001b[38;5;241m.\u001b[39mkeys(), actual_vals):\n\u001b[1;32m    217\u001b[0m     arg_flat[pos] \u001b[38;5;241m=\u001b[39m actual_val\n",
      "File \u001b[0;32m~/anaconda3/envs/pytorch/lib/python3.10/site-packages/ray/_private/auto_init_hook.py:22\u001b[0m, in \u001b[0;36mwrap_auto_init.<locals>.auto_init_wrapper\u001b[0;34m(*args, **kwargs)\u001b[0m\n\u001b[1;32m     19\u001b[0m \u001b[38;5;129m@wraps\u001b[39m(fn)\n\u001b[1;32m     20\u001b[0m \u001b[38;5;28;01mdef\u001b[39;00m \u001b[38;5;21mauto_init_wrapper\u001b[39m(\u001b[38;5;241m*\u001b[39margs, \u001b[38;5;241m*\u001b[39m\u001b[38;5;241m*\u001b[39mkwargs):\n\u001b[1;32m     21\u001b[0m     auto_init_ray()\n\u001b[0;32m---> 22\u001b[0m     \u001b[38;5;28;01mreturn\u001b[39;00m \u001b[43mfn\u001b[49m\u001b[43m(\u001b[49m\u001b[38;5;241;43m*\u001b[39;49m\u001b[43margs\u001b[49m\u001b[43m,\u001b[49m\u001b[43m \u001b[49m\u001b[38;5;241;43m*\u001b[39;49m\u001b[38;5;241;43m*\u001b[39;49m\u001b[43mkwargs\u001b[49m\u001b[43m)\u001b[49m\n",
      "File \u001b[0;32m~/anaconda3/envs/pytorch/lib/python3.10/site-packages/ray/_private/client_mode_hook.py:103\u001b[0m, in \u001b[0;36mclient_mode_hook.<locals>.wrapper\u001b[0;34m(*args, **kwargs)\u001b[0m\n\u001b[1;32m    101\u001b[0m     \u001b[38;5;28;01mif\u001b[39;00m func\u001b[38;5;241m.\u001b[39m\u001b[38;5;18m__name__\u001b[39m \u001b[38;5;241m!=\u001b[39m \u001b[38;5;124m\"\u001b[39m\u001b[38;5;124minit\u001b[39m\u001b[38;5;124m\"\u001b[39m \u001b[38;5;129;01mor\u001b[39;00m is_client_mode_enabled_by_default:\n\u001b[1;32m    102\u001b[0m         \u001b[38;5;28;01mreturn\u001b[39;00m \u001b[38;5;28mgetattr\u001b[39m(ray, func\u001b[38;5;241m.\u001b[39m\u001b[38;5;18m__name__\u001b[39m)(\u001b[38;5;241m*\u001b[39margs, \u001b[38;5;241m*\u001b[39m\u001b[38;5;241m*\u001b[39mkwargs)\n\u001b[0;32m--> 103\u001b[0m \u001b[38;5;28;01mreturn\u001b[39;00m \u001b[43mfunc\u001b[49m\u001b[43m(\u001b[49m\u001b[38;5;241;43m*\u001b[39;49m\u001b[43margs\u001b[49m\u001b[43m,\u001b[49m\u001b[43m \u001b[49m\u001b[38;5;241;43m*\u001b[39;49m\u001b[38;5;241;43m*\u001b[39;49m\u001b[43mkwargs\u001b[49m\u001b[43m)\u001b[49m\n",
      "File \u001b[0;32m~/anaconda3/envs/pytorch/lib/python3.10/site-packages/ray/_private/worker.py:2624\u001b[0m, in \u001b[0;36mget\u001b[0;34m(object_refs, timeout)\u001b[0m\n\u001b[1;32m   2622\u001b[0m     worker\u001b[38;5;241m.\u001b[39mcore_worker\u001b[38;5;241m.\u001b[39mdump_object_store_memory_usage()\n\u001b[1;32m   2623\u001b[0m \u001b[38;5;28;01mif\u001b[39;00m \u001b[38;5;28misinstance\u001b[39m(value, RayTaskError):\n\u001b[0;32m-> 2624\u001b[0m     \u001b[38;5;28;01mraise\u001b[39;00m value\u001b[38;5;241m.\u001b[39mas_instanceof_cause()\n\u001b[1;32m   2625\u001b[0m \u001b[38;5;28;01melse\u001b[39;00m:\n\u001b[1;32m   2626\u001b[0m     \u001b[38;5;28;01mraise\u001b[39;00m value\n",
      "\u001b[0;31mRayTaskError(RuntimeError)\u001b[0m: \u001b[36mray::ActorPYUFedAvgW.train_step()\u001b[39m (pid=607105, ip=172.25.205.26, actor_id=1a6f3c4cad396403b6f03e2101000000, repr=<abc.ActorPYUFedAvgW object at 0x7f4b2ba95120>)\n  File \"/home/maoyu/anaconda3/envs/pytorch/lib/python3.10/site-packages/secretflow/device/proxy.py\", line 77, in wrapper\n    return method(*args, **kwargs)\n  File \"/home/maoyu/anaconda3/envs/pytorch/lib/python3.10/site-packages/secretflow/ml/nn/fl/backend/torch/strategy/fed_avg_w.py\", line 68, in train_step\n    loss = self.model.training_step((x, y), cur_steps + step, sample_weight=s_w)\n  File \"/home/maoyu/anaconda3/envs/pytorch/lib/python3.10/site-packages/secretflow/ml/nn/core/torch/module.py\", line 174, in training_step\n    _, loss = self.forward_step(batch, batch_idx, dataloader_idx)\n  File \"/home/maoyu/anaconda3/envs/pytorch/lib/python3.10/site-packages/secretflow/ml/nn/core/torch/module.py\", line 205, in forward_step\n    y_pred = self(x)\n  File \"/home/maoyu/anaconda3/envs/pytorch/lib/python3.10/site-packages/torch/nn/modules/module.py\", line 1518, in _wrapped_call_impl\n    return self._call_impl(*args, **kwargs)\n  File \"/home/maoyu/anaconda3/envs/pytorch/lib/python3.10/site-packages/torch/nn/modules/module.py\", line 1527, in _call_impl\n    return forward_call(*args, **kwargs)\n  File \"/tmp/ipykernel_605466/605327549.py\", line 37, in forward\n  File \"/home/maoyu/anaconda3/envs/pytorch/lib/python3.10/site-packages/torch/nn/modules/module.py\", line 1518, in _wrapped_call_impl\n    return self._call_impl(*args, **kwargs)\n  File \"/home/maoyu/anaconda3/envs/pytorch/lib/python3.10/site-packages/torch/nn/modules/module.py\", line 1527, in _call_impl\n    return forward_call(*args, **kwargs)\n  File \"/home/maoyu/anaconda3/envs/pytorch/lib/python3.10/site-packages/torch/nn/modules/linear.py\", line 114, in forward\n    return F.linear(input, self.weight, self.bias)\nRuntimeError: mat1 and mat2 shapes cannot be multiplied (16x32 and 31x64)"
     ]
    },
    {
     "name": "stderr",
     "output_type": "stream",
     "text": [
      "2024-09-10 00:46:25,714\tERROR worker.py:405 -- Unhandled error (suppress with 'RAY_IGNORE_UNHANDLED_ERRORS=1'): \u001b[36mray::Actor_Masker.mask()\u001b[39m (pid=606956, ip=172.25.205.26, actor_id=abc622cdae868e05f8ec7b2e01000000, repr=<secretflow.device.proxy.Actor_Masker object at 0x7fd7576df5b0>)\n",
      "  At least one of the input arguments for this task could not be computed:\n",
      "ray.exceptions.RayTaskError: \u001b[36mray::ActorPYUFedAvgW.train_step()\u001b[39m (pid=607105, ip=172.25.205.26, actor_id=1a6f3c4cad396403b6f03e2101000000, repr=<abc.ActorPYUFedAvgW object at 0x7f4b2ba95120>)\n",
      "  File \"/home/maoyu/anaconda3/envs/pytorch/lib/python3.10/site-packages/secretflow/device/proxy.py\", line 77, in wrapper\n",
      "    return method(*args, **kwargs)\n",
      "  File \"/home/maoyu/anaconda3/envs/pytorch/lib/python3.10/site-packages/secretflow/ml/nn/fl/backend/torch/strategy/fed_avg_w.py\", line 68, in train_step\n",
      "    loss = self.model.training_step((x, y), cur_steps + step, sample_weight=s_w)\n",
      "  File \"/home/maoyu/anaconda3/envs/pytorch/lib/python3.10/site-packages/secretflow/ml/nn/core/torch/module.py\", line 174, in training_step\n",
      "    _, loss = self.forward_step(batch, batch_idx, dataloader_idx)\n",
      "  File \"/home/maoyu/anaconda3/envs/pytorch/lib/python3.10/site-packages/secretflow/ml/nn/core/torch/module.py\", line 205, in forward_step\n",
      "    y_pred = self(x)\n",
      "  File \"/home/maoyu/anaconda3/envs/pytorch/lib/python3.10/site-packages/torch/nn/modules/module.py\", line 1518, in _wrapped_call_impl\n",
      "    return self._call_impl(*args, **kwargs)\n",
      "  File \"/home/maoyu/anaconda3/envs/pytorch/lib/python3.10/site-packages/torch/nn/modules/module.py\", line 1527, in _call_impl\n",
      "    return forward_call(*args, **kwargs)\n",
      "  File \"/tmp/ipykernel_605466/605327549.py\", line 37, in forward\n",
      "  File \"/home/maoyu/anaconda3/envs/pytorch/lib/python3.10/site-packages/torch/nn/modules/module.py\", line 1518, in _wrapped_call_impl\n",
      "    return self._call_impl(*args, **kwargs)\n",
      "  File \"/home/maoyu/anaconda3/envs/pytorch/lib/python3.10/site-packages/torch/nn/modules/module.py\", line 1527, in _call_impl\n",
      "    return forward_call(*args, **kwargs)\n",
      "  File \"/home/maoyu/anaconda3/envs/pytorch/lib/python3.10/site-packages/torch/nn/modules/linear.py\", line 114, in forward\n",
      "    return F.linear(input, self.weight, self.bias)\n",
      "RuntimeError: mat1 and mat2 shapes cannot be multiplied (16x32 and 31x64)\n",
      "2024-09-10 00:46:25,715\tERROR worker.py:405 -- Unhandled error (suppress with 'RAY_IGNORE_UNHANDLED_ERRORS=1'): \u001b[36mray::Actor_Masker.mask()\u001b[39m (pid=606956, ip=172.25.205.26, actor_id=abc622cdae868e05f8ec7b2e01000000, repr=<secretflow.device.proxy.Actor_Masker object at 0x7fd7576df5b0>)\n",
      "  At least one of the input arguments for this task could not be computed:\n",
      "ray.exceptions.RayTaskError: \u001b[36mray::ActorPYUFedAvgW.train_step()\u001b[39m (pid=607105, ip=172.25.205.26, actor_id=1a6f3c4cad396403b6f03e2101000000, repr=<abc.ActorPYUFedAvgW object at 0x7f4b2ba95120>)\n",
      "  File \"/home/maoyu/anaconda3/envs/pytorch/lib/python3.10/site-packages/secretflow/device/proxy.py\", line 77, in wrapper\n",
      "    return method(*args, **kwargs)\n",
      "  File \"/home/maoyu/anaconda3/envs/pytorch/lib/python3.10/site-packages/secretflow/ml/nn/fl/backend/torch/strategy/fed_avg_w.py\", line 68, in train_step\n",
      "    loss = self.model.training_step((x, y), cur_steps + step, sample_weight=s_w)\n",
      "  File \"/home/maoyu/anaconda3/envs/pytorch/lib/python3.10/site-packages/secretflow/ml/nn/core/torch/module.py\", line 174, in training_step\n",
      "    _, loss = self.forward_step(batch, batch_idx, dataloader_idx)\n",
      "  File \"/home/maoyu/anaconda3/envs/pytorch/lib/python3.10/site-packages/secretflow/ml/nn/core/torch/module.py\", line 205, in forward_step\n",
      "    y_pred = self(x)\n",
      "  File \"/home/maoyu/anaconda3/envs/pytorch/lib/python3.10/site-packages/torch/nn/modules/module.py\", line 1518, in _wrapped_call_impl\n",
      "    return self._call_impl(*args, **kwargs)\n",
      "  File \"/home/maoyu/anaconda3/envs/pytorch/lib/python3.10/site-packages/torch/nn/modules/module.py\", line 1527, in _call_impl\n",
      "    return forward_call(*args, **kwargs)\n",
      "  File \"/tmp/ipykernel_605466/605327549.py\", line 37, in forward\n",
      "  File \"/home/maoyu/anaconda3/envs/pytorch/lib/python3.10/site-packages/torch/nn/modules/module.py\", line 1518, in _wrapped_call_impl\n",
      "    return self._call_impl(*args, **kwargs)\n",
      "  File \"/home/maoyu/anaconda3/envs/pytorch/lib/python3.10/site-packages/torch/nn/modules/module.py\", line 1527, in _call_impl\n",
      "    return forward_call(*args, **kwargs)\n",
      "  File \"/home/maoyu/anaconda3/envs/pytorch/lib/python3.10/site-packages/torch/nn/modules/linear.py\", line 114, in forward\n",
      "    return F.linear(input, self.weight, self.bias)\n",
      "RuntimeError: mat1 and mat2 shapes cannot be multiplied (16x32 and 31x64)\n",
      "2024-09-10 00:46:25,716\tERROR worker.py:405 -- Unhandled error (suppress with 'RAY_IGNORE_UNHANDLED_ERRORS=1'): \u001b[36mray::Actor_Masker.mask()\u001b[39m (pid=606955, ip=172.25.205.26, actor_id=efab2970256a66d2ec77e20501000000, repr=<secretflow.device.proxy.Actor_Masker object at 0x7ff5d643b5b0>)\n",
      "  At least one of the input arguments for this task could not be computed:\n",
      "ray.exceptions.RayTaskError: \u001b[36mray::ActorPYUFedAvgW.train_step()\u001b[39m (pid=607104, ip=172.25.205.26, actor_id=b6707718814475bee58960ca01000000, repr=<abc.ActorPYUFedAvgW object at 0x7f9fcbd851b0>)\n",
      "  File \"/home/maoyu/anaconda3/envs/pytorch/lib/python3.10/site-packages/secretflow/device/proxy.py\", line 77, in wrapper\n",
      "    return method(*args, **kwargs)\n",
      "  File \"/home/maoyu/anaconda3/envs/pytorch/lib/python3.10/site-packages/secretflow/ml/nn/fl/backend/torch/strategy/fed_avg_w.py\", line 68, in train_step\n",
      "    loss = self.model.training_step((x, y), cur_steps + step, sample_weight=s_w)\n",
      "  File \"/home/maoyu/anaconda3/envs/pytorch/lib/python3.10/site-packages/secretflow/ml/nn/core/torch/module.py\", line 174, in training_step\n",
      "    _, loss = self.forward_step(batch, batch_idx, dataloader_idx)\n",
      "  File \"/home/maoyu/anaconda3/envs/pytorch/lib/python3.10/site-packages/secretflow/ml/nn/core/torch/module.py\", line 205, in forward_step\n",
      "    y_pred = self(x)\n",
      "  File \"/home/maoyu/anaconda3/envs/pytorch/lib/python3.10/site-packages/torch/nn/modules/module.py\", line 1518, in _wrapped_call_impl\n",
      "    return self._call_impl(*args, **kwargs)\n",
      "  File \"/home/maoyu/anaconda3/envs/pytorch/lib/python3.10/site-packages/torch/nn/modules/module.py\", line 1527, in _call_impl\n",
      "    return forward_call(*args, **kwargs)\n",
      "  File \"/tmp/ipykernel_605466/605327549.py\", line 37, in forward\n",
      "  File \"/home/maoyu/anaconda3/envs/pytorch/lib/python3.10/site-packages/torch/nn/modules/module.py\", line 1518, in _wrapped_call_impl\n",
      "    return self._call_impl(*args, **kwargs)\n",
      "  File \"/home/maoyu/anaconda3/envs/pytorch/lib/python3.10/site-packages/torch/nn/modules/module.py\", line 1527, in _call_impl\n",
      "    return forward_call(*args, **kwargs)\n",
      "  File \"/home/maoyu/anaconda3/envs/pytorch/lib/python3.10/site-packages/torch/nn/modules/linear.py\", line 114, in forward\n",
      "    return F.linear(input, self.weight, self.bias)\n",
      "RuntimeError: mat1 and mat2 shapes cannot be multiplied (16x32 and 31x64)\n",
      "2024-09-10 00:46:25,717\tERROR worker.py:405 -- Unhandled error (suppress with 'RAY_IGNORE_UNHANDLED_ERRORS=1'): \u001b[36mray::Actor_Masker.mask()\u001b[39m (pid=606955, ip=172.25.205.26, actor_id=efab2970256a66d2ec77e20501000000, repr=<secretflow.device.proxy.Actor_Masker object at 0x7ff5d643b5b0>)\n",
      "  At least one of the input arguments for this task could not be computed:\n",
      "ray.exceptions.RayTaskError: \u001b[36mray::ActorPYUFedAvgW.train_step()\u001b[39m (pid=607104, ip=172.25.205.26, actor_id=b6707718814475bee58960ca01000000, repr=<abc.ActorPYUFedAvgW object at 0x7f9fcbd851b0>)\n",
      "  File \"/home/maoyu/anaconda3/envs/pytorch/lib/python3.10/site-packages/secretflow/device/proxy.py\", line 77, in wrapper\n",
      "    return method(*args, **kwargs)\n",
      "  File \"/home/maoyu/anaconda3/envs/pytorch/lib/python3.10/site-packages/secretflow/ml/nn/fl/backend/torch/strategy/fed_avg_w.py\", line 68, in train_step\n",
      "    loss = self.model.training_step((x, y), cur_steps + step, sample_weight=s_w)\n",
      "  File \"/home/maoyu/anaconda3/envs/pytorch/lib/python3.10/site-packages/secretflow/ml/nn/core/torch/module.py\", line 174, in training_step\n",
      "    _, loss = self.forward_step(batch, batch_idx, dataloader_idx)\n",
      "  File \"/home/maoyu/anaconda3/envs/pytorch/lib/python3.10/site-packages/secretflow/ml/nn/core/torch/module.py\", line 205, in forward_step\n",
      "    y_pred = self(x)\n",
      "  File \"/home/maoyu/anaconda3/envs/pytorch/lib/python3.10/site-packages/torch/nn/modules/module.py\", line 1518, in _wrapped_call_impl\n",
      "    return self._call_impl(*args, **kwargs)\n",
      "  File \"/home/maoyu/anaconda3/envs/pytorch/lib/python3.10/site-packages/torch/nn/modules/module.py\", line 1527, in _call_impl\n",
      "    return forward_call(*args, **kwargs)\n",
      "  File \"/tmp/ipykernel_605466/605327549.py\", line 37, in forward\n",
      "  File \"/home/maoyu/anaconda3/envs/pytorch/lib/python3.10/site-packages/torch/nn/modules/module.py\", line 1518, in _wrapped_call_impl\n",
      "    return self._call_impl(*args, **kwargs)\n",
      "  File \"/home/maoyu/anaconda3/envs/pytorch/lib/python3.10/site-packages/torch/nn/modules/module.py\", line 1527, in _call_impl\n",
      "    return forward_call(*args, **kwargs)\n",
      "  File \"/home/maoyu/anaconda3/envs/pytorch/lib/python3.10/site-packages/torch/nn/modules/linear.py\", line 114, in forward\n",
      "    return F.linear(input, self.weight, self.bias)\n",
      "RuntimeError: mat1 and mat2 shapes cannot be multiplied (16x32 and 31x64)\n"
     ]
    }
   ],
   "source": [
    "history = fl_model.fit(\n",
    "    train_data,\n",
    "    train_label,\n",
    "    validation_data=(test_data, test_label),\n",
    "    epochs=20,\n",
    "    batch_size=16,\n",
    "    aggregate_freq=1,\n",
    ")"
   ]
  },
  {
   "cell_type": "code",
   "execution_count": null,
   "id": "0050252f",
   "metadata": {},
   "outputs": [],
   "source": [
    "from matplotlib import pyplot as plt\n",
    "\n",
    "# Draw accuracy values for training & validation\n",
    "plt.plot(history[\"global_history\"]['multiclassaccuracy'])\n",
    "plt.plot(history[\"global_history\"]['val_multiclassaccuracy'])\n",
    "plt.title('FLModel accuracy')\n",
    "plt.ylabel('Accuracy')\n",
    "plt.xlabel('Epoch')\n",
    "plt.legend(['Train', 'Valid'], loc='upper left')\n",
    "plt.show()"
   ]
  },
  {
   "cell_type": "code",
   "execution_count": null,
   "id": "42efc3ab",
   "metadata": {},
   "outputs": [],
   "source": []
  }
 ],
 "metadata": {
  "kernelspec": {
   "display_name": "Python [conda env:pytorch] *",
   "language": "python",
   "name": "conda-env-pytorch-py"
  },
  "language_info": {
   "codemirror_mode": {
    "name": "ipython",
    "version": 3
   },
   "file_extension": ".py",
   "mimetype": "text/x-python",
   "name": "python",
   "nbconvert_exporter": "python",
   "pygments_lexer": "ipython3",
   "version": "3.10.14"
  }
 },
 "nbformat": 4,
 "nbformat_minor": 5
}
